{
 "cells": [
  {
   "cell_type": "markdown",
   "metadata": {},
   "source": [
    "# Example limit setting code"
   ]
  },
  {
   "cell_type": "code",
   "execution_count": null,
   "metadata": {
    "collapsed": false
   },
   "outputs": [],
   "source": [
    "from __future__ import print_function\n",
    "%matplotlib inline"
   ]
  },
  {
   "cell_type": "markdown",
   "metadata": {},
   "source": [
    "Dependencies"
   ]
  },
  {
   "cell_type": "code",
   "execution_count": null,
   "metadata": {
    "collapsed": false
   },
   "outputs": [],
   "source": [
    "import functools\n",
    "import pickle\n",
    "import numpy as np\n",
    "import matplotlib.pyplot as plt\n",
    "from scipy.interpolate import interp1d\n",
    "from scipy.optimize import brenth\n",
    "import pprint\n",
    "from scipy.special import erf\n",
    "import cmax"
   ]
  },
  {
   "cell_type": "markdown",
   "metadata": {},
   "source": [
    "The following line loads from disk (if available) precomputed constants for running the optimum interval calculation."
   ]
  },
  {
   "cell_type": "code",
   "execution_count": null,
   "metadata": {
    "collapsed": true
   },
   "outputs": [],
   "source": [
    "short_run = False\n",
    "if short_run:\n",
    "    run = '7days'\n",
    "    livetime = 7.2\n",
    "else:\n",
    "    run = 'run10'\n",
    "    livetime = 223.46\n",
    "\n",
    "qy_cutoff = 1.0"
   ]
  },
  {
   "cell_type": "markdown",
   "metadata": {},
   "source": [
    "shasum used to check you have correct file:\n",
    "\n",
    "d80d5d2856e3477c74102e9da0b5c7ef46016f5d  trim_cut_s2only_dm_7days.root\n",
    "\n",
    "66377496c6627ca6b1351b8a04ff356cc30940f0  trim_cut_s2only_dm_run10.root\n",
    "\n",
    "Available at xecluster:~tunnell/trim_files/"
   ]
  },
  {
   "cell_type": "code",
   "execution_count": null,
   "metadata": {
    "collapsed": false
   },
   "outputs": [],
   "source": [
    "\n",
    "\n",
    "import ROOT\n",
    "from root_numpy import tree2rec\n",
    "\n",
    "f = ROOT.TFile('trim_files/trim_cut_s2only_dm_%s.root' % run)\n",
    "rec = tree2rec(f.Get('T2'))\n",
    "xe100_unblinded = np.array([x[0] for x in rec['S2sTot']])"
   ]
  },
  {
   "cell_type": "code",
   "execution_count": null,
   "metadata": {
    "collapsed": false
   },
   "outputs": [],
   "source": [
    "len(xe100_unblinded)"
   ]
  },
  {
   "cell_type": "code",
   "execution_count": null,
   "metadata": {
    "collapsed": false,
    "scrolled": true
   },
   "outputs": [],
   "source": [
    "size = 3.1693\n",
    "plt.figure(figsize=(size, 0.75*size))\n",
    "plt.hist(xe100_unblinded, histtype='step', bins=50)\n",
    "plt.xlabel('Measured energy [pe]')\n",
    "plt.ylabel('#')\n",
    "plt.savefig('spectrum.png')\n",
    "plt.savefig('spectrum.eps', bbox_inches='tight')\n",
    "plt.savefig('spectrum.pdf', bbox_inches='tight')"
   ]
  },
  {
   "cell_type": "code",
   "execution_count": null,
   "metadata": {
    "collapsed": false
   },
   "outputs": [],
   "source": [
    "cmax.load_table_from_disk()\n",
    "n = 100"
   ]
  },
  {
   "cell_type": "markdown",
   "metadata": {},
   "source": [
    "# Inputs to the analysis"
   ]
  },
  {
   "cell_type": "markdown",
   "metadata": {},
   "source": [
    "### Response matrix"
   ]
  },
  {
   "cell_type": "markdown",
   "metadata": {},
   "source": [
    "This is computed elsewhere (see the respective IPython notebook) and provides a response matrix.  This matrix can be multipled against a histogram in true recoil energy to yield the observed spectra.\n",
    "\n",
    "$\\begin{pmatrix}E^T_0\\\\E^T_1\\\\...\\\\E^T_n\\end{pmatrix} \\begin{pmatrix}response matrix\\end{pmatrix} = \\begin{pmatrix}E^M_0\\\\E^M_2\\\\...\\\\E^M_n\\end{pmatrix}$\n",
    "\n",
    "where $E^T$ and $E^M$ are true and measured energies, respectively."
   ]
  },
  {
   "cell_type": "code",
   "execution_count": null,
   "metadata": {
    "collapsed": false
   },
   "outputs": [],
   "source": [
    "# Load the dictionary back from the pickle file.\n",
    "f = open(\"response_matrix_%0.1f.p\" % qy_cutoff, \"rb\")\n",
    "true_energy_bins = pickle.load(f)\n",
    "measured_energy_bins = pickle.load(f)\n",
    "response_matrix = pickle.load(f)\n",
    "f.close()\n",
    "\n",
    "measured_energy_bins_scale = (measured_energy_bins[-1] - measured_energy_bins[0])/measured_energy_bins.size\n",
    "true_energy_bins_scale = (true_energy_bins[-1] - true_energy_bins[0])/true_energy_bins.size\n"
   ]
  },
  {
   "cell_type": "markdown",
   "metadata": {},
   "source": [
    "### Fundumental constants"
   ]
  },
  {
   "cell_type": "code",
   "execution_count": null,
   "metadata": {
    "collapsed": false
   },
   "outputs": [],
   "source": [
    "xenon_liquid_density = 2.91 / 1000 # kg / cm^2\n",
    "A = 131.293 # amu\n",
    "v = 230 * 100000 # 230 km/s, in cm/s\n",
    "speed_of_light = 2.99792458e8 # m/s, light\n",
    "\n",
    "rho = 0.3 # in GeV cm^-3\n",
    "avogadro_number = 6.0221415 * 10**26 # 1/kg\n",
    "\n",
    "mnucl = 0.931494    # Mass of a nucleon, in GeV/c^2\n",
    "mprot = 0.938272046 # mass of proton, GeV/c^2\n",
    "\n",
    "A = 131.293 # amu\n",
    "vsun = 232.0 # Solar velocity in km/s\n",
    "vinf = 220.0 # Asymptotic velocity of local system in km/s\n",
    "vesc = 544.0 # Galactic escape velocity In km/s "
   ]
  },
  {
   "cell_type": "markdown",
   "metadata": {},
   "source": [
    "### Parameters of run"
   ]
  },
  {
   "cell_type": "code",
   "execution_count": null,
   "metadata": {
    "collapsed": false
   },
   "outputs": [],
   "source": [
    "print(xe100_unblinded)\n",
    "print('Number of events', len(xe100_unblinded))\n",
    "\n",
    "#Assuming the TPC is 30 cm high, our fiducial volume is 49.367 kg.  We have one inch PMTs, so assuming that signals in the top PMTs give our position, then the position uncertainty is $1 \\text{ inch}/\\sqrt{12} = 7 \\text{ mm}$, where the $\\sqrt{12}$ is the standard deviation of a uniform distribution (See, e.g., [[http://mathforum.org/library/drmath/view/52066.html|here]]).  \n",
    "\n",
    "#Normally, our fiducial is 33.9292 L of xenon.  If we increase or decrease our cut value of $r$ to understand how uncertainties in $r$ affects our fiducial volume, we get 37.562 L and 30.481 L, respectively.  This translates into an 11% uncertainty on our fiducial volume, which is roughly our statistical uncertainty on 100 photoelectron signals.\n",
    "radius_cut = np.sqrt(18000) / 10 # cm\n",
    "target_mass = ((np.pi * radius_cut ** 2) * 30) * xenon_liquid_density # mm^2 -> cm^2 * 30 cm * density\n",
    "print('Target mass [kg]:', target_mass)"
   ]
  },
  {
   "cell_type": "markdown",
   "metadata": {},
   "source": [
    "### Plotting setting"
   ]
  },
  {
   "cell_type": "code",
   "execution_count": null,
   "metadata": {
    "collapsed": false
   },
   "outputs": [],
   "source": [
    "plot_ranges = {'mass_min' : 4, # GeV\n",
    "              'mass_max' : 20, # GeV\n",
    "              'mass_steps' : 20,\n",
    "              'xsec_min' : 10**-43, # cm^-2\n",
    "              'xsec_max' : 10**-39,} "
   ]
  },
  {
   "cell_type": "markdown",
   "metadata": {},
   "source": [
    "# 'Experts' only below"
   ]
  },
  {
   "cell_type": "markdown",
   "metadata": {},
   "source": [
    "### Helpers"
   ]
  },
  {
   "cell_type": "markdown",
   "metadata": {},
   "source": [
    "The following few functions are just handy to define, but don't affect the physics."
   ]
  },
  {
   "cell_type": "code",
   "execution_count": null,
   "metadata": {
    "collapsed": false
   },
   "outputs": [],
   "source": [
    "def center(x):\n",
    "    \"\"\"returns bin centers\"\"\"\n",
    "    return 0.5*(x[1:]+x[:-1])"
   ]
  },
  {
   "cell_type": "code",
   "execution_count": null,
   "metadata": {
    "collapsed": false
   },
   "outputs": [],
   "source": [
    "# Test values for quick checks\n",
    "test_mass = 10.0 # GeV\n",
    "test_xsec = 10**-41 # cm^2"
   ]
  },
  {
   "cell_type": "code",
   "execution_count": null,
   "metadata": {
    "collapsed": false
   },
   "outputs": [],
   "source": [
    "def ErfMinusErf(x, y):\n",
    "    retval = np.sqrt(np.pi)/2\n",
    "    retval *= (erf(y)-erf(x))\n",
    "    return retval"
   ]
  },
  {
   "cell_type": "markdown",
   "metadata": {},
   "source": [
    "### Interaction spectrum and normalization"
   ]
  },
  {
   "cell_type": "markdown",
   "metadata": {},
   "source": [
    "All of this code is essentially stolen from Andy's LimitSimulator3 code.  My function has been tested versus his function and give identical answers, if you assume the form factor is 1.  This is true at these low energies (>0.9).\n",
    "\n",
    "From Donato et al ([arXiv:9803295](http://arxiv.org/pdf/hep-ph/9803295v1.pdf)):\n",
    "\n",
    "By means of the previous  definitions, the  differential rate can be written in\n",
    "the  form\n",
    "\n",
    "$$  \\frac   {dR}{dE_R}=   N_{T}\n",
    "\\frac{\\rho_{\\chi}}{m_{\\chi}}\\frac{m_N \\sigma_0}  {2   m_{\\rm   red}^2}\n",
    "F^{2}(q^2)\\, {\\cal  I}(v_{\\rm min},v_\\odot,v_{\\rm esc})\n",
    "$$\n",
    "\n",
    "where the  function ${\\cal  I}(v_{\\rm min},v_\\odot,v_{\\rm esc})$ contains all\n",
    "the details of the integration of the velocity DF $f(v)$\n",
    "in the Earth's frame.\n",
    "\n"
   ]
  },
  {
   "cell_type": "code",
   "execution_count": null,
   "metadata": {
    "collapsed": false
   },
   "outputs": [],
   "source": [
    "def GetI(erec, Mchi, mred, Mnucleus):\n",
    "    \"\"\"\n",
    "    erec - recoil energy (keV)\n",
    "    Mchi - DM mass (GeV)\n",
    "    mred - reduced mass (GeV)\n",
    "    \"\"\"    \n",
    "    neta = vsun / vinf # Unitless\n",
    "    z = vesc / vinf # Unitless\n",
    "    \n",
    "    # sqrt(keV * GeV * (km/s) * (km/s) / GeV**2 / (km/s))\n",
    "    # = sqrt(keV * (km/s) / GeV) -> so 1e-6\n",
    "    xmin =  np.sqrt(erec * Mnucleus * speed_of_light * speed_of_light * 1e-12/ (2*mred*mred)) / vinf \n",
    "    \n",
    "    norm = 1.0/(erf(z)-(2/np.sqrt(np.pi))*z*np.exp(-z*z))\n",
    "\n",
    "    retval = (norm/neta)/(np.sqrt(np.pi) * vinf)\n",
    "    \n",
    "    if xmin < (z-neta):\n",
    "     retval *= ErfMinusErf(xmin-neta,xmin+neta)-2*neta*np.exp(-z*z);\n",
    "    if ((z-neta)<=xmin and xmin < (z+neta)):\n",
    "      retval *= ErfMinusErf(xmin-neta,z)-np.exp(-z*z)*(z+neta-xmin)\n",
    "    if (xmin>=(z+neta)):\n",
    "        retval = 0\n",
    "\n",
    "    return retval\n",
    "\n",
    "Mnucleon = 0.931494    # Mass of a nucleon, in Gev/c^2\n",
    "\n",
    "def dRdE(erec, Mchi, sigma):\n",
    "    \"\"\"\n",
    "    erec - (keV)\n",
    "    Mchi - Mass of WIMP (GeV)\n",
    "    sigma - cross section nucleon (cm^-2)\n",
    "    \"\"\"\n",
    "    # Helpers\n",
    "    Mnucleus = A * Mnucleon # GeV\n",
    "    \n",
    "    Nt = avogadro_number / A # #, Number of target nuclei per unit of max\n",
    "\n",
    "    #Returns the per nucleon scale factor for the know masses\n",
    "    #Again following Lewin and Smith 1996\n",
    "    sigma /= ((1 + Mchi/Mnucleus)/(1 + Mchi/mprot))**2\n",
    "    sigma *= A**2\n",
    "    \n",
    "    mred = (Mnucleus * Mchi) / (Mnucleus + Mchi)  # Reduced mass\n",
    "    \n",
    "    F2 = 1  # Form factor squared, true only for low mass analysis!\n",
    "    \n",
    "    I = 1e-5 * GetI(erec, Mchi, mred, Mnucleus) # Integrate velocity dist, then km -> cm\n",
    "    \n",
    "    # Notice the Mn/med**2 in the returned formula? Convert to 1/keV\n",
    "    scale = 1e-6  # 1e-6 takes 1/GeV\n",
    "    scale *= speed_of_light**2 * 1e4 # c^2 in cm/s\n",
    "    \n",
    "    scale *= 60 * 60 * 24 # formula in paper yields days, want seconds\n",
    "        \n",
    "    return Nt * (rho/Mchi) * ((Mnucleus * sigma)/(2 * mred**2)) * F2 * I * scale\n",
    "    \n",
    "\n",
    "assert (dRdE(5.0, test_mass, 1e-36) - 9434.53) < 1 # Test against Andrew's code"
   ]
  },
  {
   "cell_type": "code",
   "execution_count": null,
   "metadata": {
    "collapsed": false
   },
   "outputs": [],
   "source": [
    "test_mass = 5\n",
    "\n",
    "plt.plot(true_energy_bins, [1 * 1 * dRdE(y, test_mass, test_xsec) for y in true_energy_bins], label='other')\n",
    "plt.title('Recoil spectra for %d GeV, %g cm^2' % (test_mass, test_xsec))\n",
    "plt.xlabel('True energy [keV]')\n",
    "plt.ylim(1e-3, 1e2)\n",
    "plt.ylabel('dN/dE [1/keV/day/kg]')\n",
    "plt.yscale('log')\n",
    "plt.legend()\n",
    "plt.show()\n",
    "#plt.savefig('spectrum.eps')\n",
    "#plt.savefig('spectrum.png')\n"
   ]
  },
  {
   "cell_type": "markdown",
   "metadata": {},
   "source": [
    "We can now use our response matrix to determine the reconstructed spectra.\n"
   ]
  },
  {
   "cell_type": "code",
   "execution_count": null,
   "metadata": {
    "collapsed": false
   },
   "outputs": [],
   "source": [
    "def get_recon_spectra(Mchi, sigma):\n",
    "    \"\"\"Need to multiply against norm\"\"\"\n",
    "    # True dist\n",
    "    distribution_binned = [dRdE(energy, Mchi, sigma) for energy in center(true_energy_bins)]\n",
    "    distribution_binned = np.array(distribution_binned)\n",
    "    distribution_binned *= true_energy_bins_scale\n",
    "    \n",
    "    # Convert to matrix so can matrix multiply\n",
    "    true_vector = np.mat(distribution_binned)\n",
    "    recon_vector = true_vector * response_matrix\n",
    "    recon_vector = recon_vector.getA()[0]\n",
    "    \n",
    "    return recon_vector\n",
    "\n",
    "\n",
    "plt.plot(center(measured_energy_bins),\n",
    "         get_recon_spectra(test_mass, test_xsec))\n",
    "plt.xlabel('energy [pe]')\n",
    "plt.ylabel('events per %d pe' % measured_energy_bins_scale)\n",
    "\n",
    "test_spectra = get_recon_spectra(test_mass, test_xsec)\n",
    "\n",
    "print('sum_after', sum(test_spectra))\n"
   ]
  },
  {
   "cell_type": "markdown",
   "metadata": {},
   "source": [
    "The CDF of the measured recoil spectra is needed for the limit setting code."
   ]
  },
  {
   "cell_type": "code",
   "execution_count": null,
   "metadata": {
    "collapsed": false
   },
   "outputs": [],
   "source": [
    "def ReconWimpCDF(list_of_energies,\n",
    "                 xbins,\n",
    "                 Mchi):\n",
    "    \n",
    "    x = center(xbins)\n",
    "    y = np.cumsum(get_recon_spectra(Mchi, 1e-36))\n",
    "    y /= y[-1]\n",
    "    \n",
    "    f = interp1d(center(measured_energy_bins),\n",
    "                 y,\n",
    "                 kind='cubic',\n",
    "                bounds_error=False,\n",
    "                  fill_value=0)\n",
    "        \n",
    "    return f(list_of_energies)\n",
    "\n",
    "\n",
    "ReconWimpCDF(xe100_unblinded, center(measured_energy_bins), 10)"
   ]
  },
  {
   "cell_type": "markdown",
   "metadata": {},
   "source": [
    "Max gap eq (not used) $C_0(x, \\mu) = \\sum_{k=0}^{m} \\frac{(kx - \\mu)^k e^{-kx}}{k!} (1 + \\frac{k}{\\mu - kx}) $"
   ]
  },
  {
   "cell_type": "code",
   "execution_count": null,
   "metadata": {
    "collapsed": false
   },
   "outputs": [],
   "source": [
    "mc_test_vals = np.array([168.753618,115.627839,264.770982,123.617452,517.887246,244.728130,138.523418,101.538961,130.015155,119.991030,295.611937,164.026573,138.648365,151.799804,343.600605,118.806085,153.343472,273.649671,155.601161,103.716820,206.913062,362.686804,94.494276,196.579429,89.072226,140.539444,282.166358,231.011781,159.959681,182.687679,231.234782,142.422258,126.581473,134.855876,175.179386,138.506776,139.365890,103.367954,144.970514,105.035875,246.662424,137.983437,184.380137,219.589717,146.567977,50.458623,232.625746,288.887184,268.107974,200.472974,151.678259,311.605239,139.888106,116.270688,124.973920,143.058264,443.803889,110.264946,395.976192,205.320753,130.478291,193.603740,253.107474,163.382504,113.357371,274.718855,97.268250,197.657366,510.470246,169.722057,235.607320,167.766701,142.263224,233.123329,92.945875,519.793448,364.691687,188.154327,])"
   ]
  },
  {
   "cell_type": "code",
   "execution_count": null,
   "metadata": {
    "collapsed": false
   },
   "outputs": [],
   "source": [
    "#print('Precision test:')\n",
    "#f3 = lambda x: ReconWimpCDF(x, measured_energy_bins, test_mass)\n",
    "\n",
    "#results = {}\n",
    "#for test_n in [100, 500, 1000, ]:\n",
    "#    results[test_n] = cmax.optItvUpperLimit(xe100_unblinded, 0.9, spectrumCDF=f3, n=test_n)\n",
    "    \n",
    "#pprint.pprint(results)\n"
   ]
  },
  {
   "cell_type": "code",
   "execution_count": null,
   "metadata": {
    "collapsed": false
   },
   "outputs": [],
   "source": [
    "#f = lambda x: ReconWimpCDF(x, measured_energy_bins, mass)\n",
    "\n",
    "#for mu in [3000, 4000, 5000, 6000]:\n",
    "#    print(mu, cmax.optItvUpperLimit(xe100_unblinded, 0.9, spectrumCDF=f,\n",
    "#                                   n=n,\n",
    "#                                    mu=mu))"
   ]
  },
  {
   "cell_type": "code",
   "execution_count": null,
   "metadata": {
    "collapsed": false
   },
   "outputs": [],
   "source": [
    "limit_mass = np.logspace(np.log10(plot_ranges['mass_min']),\n",
    "                         np.log10(plot_ranges['mass_max']),\n",
    "                         plot_ranges['mass_steps'])\n",
    "limit_sec = []\n",
    "\n",
    "for mass in limit_mass:\n",
    "\n",
    "    f = lambda x: ReconWimpCDF(x, measured_energy_bins, mass)\n",
    "\n",
    "    answer = cmax.optItvUpperLimit(xe100_unblinded, 0.9, spectrumCDF=f, n=n)\n",
    "    \n",
    "    print(\"Number of events U.L.\", answer)\n",
    "    \n",
    "    def f2(xsec, mass, answer):\n",
    "        xsec = 10**xsec\n",
    "        nevts = sum(get_recon_spectra(mass, xsec)) \n",
    "        nevts *= livetime * target_mass\n",
    "        print('\\ttest: xsec', xsec, 'mass:', mass, 'nevts:', nevts, 'nevts', nevts - answer)\n",
    "        return nevts - answer\n",
    "\n",
    "    try:\n",
    "        xsec = brenth(f2, np.log10(plot_ranges['xsec_min']),\n",
    "                      np.log10(plot_ranges['xsec_max']),\n",
    "                      args=(mass, answer))    \n",
    "    except:\n",
    "        print('Mass:', mass, 'Cross section:', 'outside plot range')\n",
    "        limit_sec.append(1)\n",
    "        continue\n",
    "        \n",
    "    print('Mass:', mass, 'Cross section:', xsec)\n",
    "\n",
    "    limit_sec.append(10**xsec)\n",
    "    cmax.write_table_to_disk()\n",
    "\n",
    "    "
   ]
  },
  {
   "cell_type": "code",
   "execution_count": null,
   "metadata": {
    "collapsed": true
   },
   "outputs": [],
   "source": [
    "cmax.write_table_to_disk()"
   ]
  },
  {
   "cell_type": "code",
   "execution_count": null,
   "metadata": {
    "collapsed": false
   },
   "outputs": [],
   "source": [
    "pprint.pprint(list(zip(limit_mass, limit_sec)))"
   ]
  },
  {
   "cell_type": "code",
   "execution_count": null,
   "metadata": {
    "collapsed": false
   },
   "outputs": [],
   "source": [
    "print('limit_mass = ', list(limit_mass))\n",
    "print('limit_sec = ', limit_sec)"
   ]
  },
  {
   "cell_type": "markdown",
   "metadata": {},
   "source": [
    "## Quick XENON10 cross check"
   ]
  },
  {
   "cell_type": "markdown",
   "metadata": {},
   "source": [
    "In the XENON10 S2-only analysis, it states that the limit at $M_\\chi = 7 \\text{ GeV}$ is $\\sigma = 10^{-42} \\text{ cm}^{2}$.  I try to reproduce this.\n",
    "\n",
    "* XENON10 efficiency: 0.8\n",
    "* XENON10 number of events: 23\n",
    "* XENON10 exposure: 15 kg-days\n",
    "\n",
    "I expect 9 events, whereas they measure 23.  I think this is due to the fact that they used the $p$ method, therefore their total number of events for the limit setting is between 0 and 23.  I guessing their used the $p$ method to set (in an unbiased way) bin boundaries that only accepted 9 events.\n"
   ]
  },
  {
   "cell_type": "code",
   "execution_count": null,
   "metadata": {
    "collapsed": false
   },
   "outputs": [],
   "source": [
    "def check_xenon10():\n",
    "    xenon10_measurement = 23\n",
    "\n",
    "    mass = 7\n",
    "    xsec = 7e-42\n",
    "    nevts = sum(get_recon_spectra(mass, xsec)) \n",
    "    nevts *= 15 # exposure in kg-days\n",
    "    nevts *= 1.6 # 1.6 from 0.8/0.5 efficiency ratio\n",
    "    \n",
    "    print('Mass:', mass, 'GeV')\n",
    "    print('Cross section:', xsec, 'cm^2')\n",
    "    print('\\tXENON10 measurement:', xenon10_measurement)\n",
    "    print('\\tMy predicted number of events:', nevts)\n",
    "\n",
    "check_xenon10()"
   ]
  },
  {
   "cell_type": "code",
   "execution_count": null,
   "metadata": {
    "collapsed": false
   },
   "outputs": [],
   "source": [
    "cmax.write_table_to_disk()"
   ]
  }
 ],
 "metadata": {
  "kernelspec": {
   "display_name": "Python 3",
   "language": "python",
   "name": "python3"
  },
  "language_info": {
   "codemirror_mode": {
    "name": "ipython",
    "version": 3
   },
   "file_extension": ".py",
   "mimetype": "text/x-python",
   "name": "python",
   "nbconvert_exporter": "python",
   "pygments_lexer": "ipython3",
   "version": "3.4.3"
  }
 },
 "nbformat": 4,
 "nbformat_minor": 0
}
