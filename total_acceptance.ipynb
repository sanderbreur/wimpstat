{
 "cells": [
  {
   "cell_type": "markdown",
   "metadata": {},
   "source": [
    "# Compute energy smearing matrix"
   ]
  },
  {
   "cell_type": "markdown",
   "metadata": {},
   "source": [
    "Please note that the actual experimental parameters have been randomized."
   ]
  },
  {
   "cell_type": "code",
   "execution_count": 1,
   "metadata": {
    "collapsed": false
   },
   "outputs": [],
   "source": [
    "%matplotlib inline\n",
    "import os, pickle\n",
    "import numpy as np\n",
    "import matplotlib.pyplot as plt\n",
    "import gzip\n",
    "from tqdm import tqdm\n",
    "from matplotlib.ticker import NullFormatter\n",
    "from matplotlib import cm\n",
    "from scipy import interpolate\n",
    "from scipy.stats import poisson"
   ]
  },
  {
   "cell_type": "code",
   "execution_count": 2,
   "metadata": {
    "collapsed": true
   },
   "outputs": [],
   "source": [
    "qy_cutoff = 1.0"
   ]
  },
  {
   "cell_type": "markdown",
   "metadata": {},
   "source": [
    "Where there are these many events passing the cuts:"
   ]
  },
  {
   "cell_type": "markdown",
   "metadata": {},
   "source": [
    "## Efficieinces"
   ]
  },
  {
   "cell_type": "code",
   "execution_count": 3,
   "metadata": {
    "collapsed": false
   },
   "outputs": [],
   "source": [
    "true_energy_bins = np.linspace(0, 10, 100) # keV\n",
    "measured_energy_bins = np.linspace(0, 1000, 100) # pe\n",
    "\n",
    "def acceptance_function(E, cutoff = 150):\n",
    "    \"\"\"Apply the analysis efficiencies\n",
    "    \n",
    "    E is a histogram of events binned in measured energy (pe),\n",
    "    represented as a numpy array.\n",
    "    \n",
    "    Cutoff is the lower bound on the analysis\n",
    "    \"\"\"\n",
    "    p0 = 0.5\n",
    "    p1 = 0\n",
    "    p2 = 0\n",
    "    answer = p0 + p1 * np.log(E) + p2 * np.sqrt(E)\n",
    "\n",
    "    # Set bins to zero if you're below the analysis threshold\n",
    "    answer[E<cutoff] = 0\n",
    "    return answer\n",
    "    "
   ]
  },
  {
   "cell_type": "code",
   "execution_count": 5,
   "metadata": {
    "collapsed": false
   },
   "outputs": [
    {
     "name": "stderr",
     "output_type": "stream",
     "text": [
      "/Users/tunnell/anaconda3/envs/s2only/lib/python3.4/site-packages/ipykernel/__main__.py:15: RuntimeWarning: divide by zero encountered in log\n",
      "/Users/tunnell/anaconda3/envs/s2only/lib/python3.4/site-packages/ipykernel/__main__.py:15: RuntimeWarning: invalid value encountered in multiply\n"
     ]
    },
    {
     "data": {
      "image/png": "[encoded data removed]",
      "text/plain": [
       "<matplotlib.figure.Figure at 0x106f52240>"
      ]
     },
     "metadata": {},
     "output_type": "display_data"
    }
   ],
   "source": [
    "plt.figure()\n",
    "plt.plot(measured_energy_bins, acceptance_function(measured_energy_bins))\n",
    "plt.title('Total acceptance')\n",
    "plt.ylabel('Acceptance')\n",
    "plt.ylim(0,1)\n",
    "plt.xlabel('S2 [pe]')\n",
    "\n",
    "plt.savefig('plots/total_acceptance.eps')\n",
    "plt.savefig('plots/total_acceptance.png')"
   ]
  },
  {
   "cell_type": "code",
   "execution_count": 6,
   "metadata": {
    "collapsed": false
   },
   "outputs": [
    {
     "name": "stderr",
     "output_type": "stream",
     "text": [
      "/Users/tunnell/anaconda3/envs/s2only/lib/python3.4/site-packages/ipykernel/__main__.py:15: RuntimeWarning: divide by zero encountered in log\n",
      "/Users/tunnell/anaconda3/envs/s2only/lib/python3.4/site-packages/ipykernel/__main__.py:15: RuntimeWarning: invalid value encountered in multiply\n"
     ]
    },
    {
     "data": {
      "image/png": "[encoded data removed]",
      "text/plain": [
       "<matplotlib.figure.Figure at 0x1073104a8>"
      ]
     },
     "metadata": {},
     "output_type": "display_data"
    }
   ],
   "source": [
    "def trigger_efficiency(pe):\n",
    "    # Measured from run 10\n",
    "    x = [2.5, 7.5, 12.5, 17.5, 22.5, 27.5, 32.5, 37.5, 42.5, 47.5, 52.5, 57.5, 62.5, 67.5, 72.5, 77.5, 82.5, 87.5, 92.1867, 97.5, 102.5, 107.5, 112.5, 117.5, 122.5, 127.5, 132.5, 137.5, 142.5, 147.5, 152.5, 157.5, 162.5, 167.5, 172.5, 177.5, 182.5, 187.5, 192.5, 197.5, 202.5, 207.5, 212.5, 217.5, 222.5, 227.5, 232.5, 237.5, 242.5, 247.5, 252.5, 257.5, 262.5, 267.5, 272.5, 277.5, 282.5, 287.5, 292.5, 297.5, 302.5, 307.5, 312.5, 317.5, 322.5, 327.5, 332.5, 337.5, 342.5, 347.5, 352.5, 357.5, 362.5, 367.5, 372.5, 377.5, 382.5, 387.5, 392.5, 397.5, 402.5, 407.5, 412.5, 417.5, 422.5, 427.5, 432.5, 437.5, 442.5, 447.5, 452.5, 457.5, 462.5, 467.5, 472.5, 477.5, 482.5, 487.5, 492.5, 497.5, 502.5, 507.5, 512.5, 517.5, 522.5, 527.5, 532.5, 537.5, 542.5, 547.5, 552.5, 557.5, 562.5, 567.5, 572.5, 577.5, 582.5, 587.5, 592.5, 597.5, 602.5, 607.5, 612.5, 617.5, 622.5, 627.5, 632.5, 637.5, 642.5, 647.5, 652.5, 657.5, 662.5, 667.5, 672.5, 677.5, 682.5, 687.5, 692.5, 697.5, 702.5, 707.5, 712.5, 717.5, 722.5, 727.5, 732.5, 737.5, 742.5, 747.5, 752.5, 757.5, 762.5, 767.5, 772.5, 777.5, 782.5, 787.5, 792.5, 797.5, 802.5, 807.5, 812.5, 817.5, 822.5, 827.5, 832.5, 837.5, 842.5, 847.5, 852.5, 857.5, 862.5, 867.5, 872.5, 877.5, 882.5, 887.5, 892.5, 897.5, 902.5, 907.5, 912.5, 917.5, 922.5, 927.5, 932.5, 937.5, 942.5, 947.5, 952.5, 957.5, 962.5, 967.5, 972.5, 977.5, 982.5, 987.5, 992.5, 997.5,]\n",
    "    y = [0, 0.00185185, 0.000820008, 0.000809692, 0.0012472, 0.00492117, 0.0336743, 0.135222, 0.256666, 0.283748, 0.384668, 0.529958, 0.70548, 0.758725, 0.776471, 0.824363, 0.866221, 0.89272, 0.862005, 0.890805, 0.916667, 0.959184, 0.97561, 0.951219, 0.979798, 0.962025, 0.986667, 0.987654, 1, 1, 1, 1, 1, 1, 1, 1, 1, 1, 1, 1, 1, 1, 1, 1, 1, 1, 1, 1, 1, 1, 1, 1, 1, 1, 1, 1, 1, 1, 1, 1, 1, 1, 1, 1, 1, 1, 1, 1, 1, 1, 1, 1, 1, 1, 1, 1, 1, 1, 1, 1, 1, 1, 1, 1, 1, 1, 1, 1, 1, 1, 1, 1, 1, 1, 1, 1, 1, 1, 1, 1, 1, 1, 1, 1, 1, 1, 1, 1, 1, 1, 1, 1, 1, 1, 1, 1, 1, 1, 1, 1, 1, 1, 1, 1, 1, 1, 1, 1, 1, 1, 1, 1, 1, 1, 1, 1, 1, 1, 1, 1, 1, 1, 1, 1, 1, 1, 1, 1, 1, 1, 1, 1, 1, 1, 1, 1, 1, 1, 1, 1, 1, 1, 1, 1, 1, 1, 1, 1, 1, 1, 1, 1, 1, 1, 1, 1, 1, 1, 1, 1, 1, 1, 1, 1, 1, 1, 1, 1, 1, 1, 1, 1, 1, 1, 1, 1, 1, 1, 1, 0.956522,]\n",
    "    \n",
    "    yminus = [0, 0.000620826, 0.000141143, 8.7824e-05, 0.000102523, 0.000260199, 0.00105931, 0.003467, 0.0068576, 0.00943807, 0.0126197, 0.0145127, 0.0155511, 0.0169179, 0.0187914, 0.0208379, 0.0204822, 0.0201486, 0.0261563, 0.0251108, 0.0261755, 0.0234647, 0.0169552, 0.0277971, 0.0181676, 0.0259526, 0.0193798, 0.0179876, 0.0137462, 0.011774, 0.0150028, 0.016753, 0.0214432, 0.016753, 0.0160508, 0.016753, 0.0218511, 0.0165122, 0.0196129, 0.0248222, 0.0192837, 0.0192837, 0.0236503, 0.0231733, 0.0236503, 0.0252069, 0.0236503, 0.0257724, 0.0297805, 0.0227151, 0.0199536, 0.0218511, 0.0241474, 0.0246658, 0.0283128, 0.0276319, 0.0227151, 0.0231733, 0.0252069, 0.0269829, 0.0241474, 0.0222747, 0.0246658, 0.0314088, 0.0276319, 0.0246658, 0.0276319, 0.0290281, 0.0297805, 0.0432247, 0.030573, 0.0388412, 0.0322915, 0.0352649, 0.0402001, 0.0467412, 0.0322915, 0.0416576, 0.0363815, 0.0388412, 0.030573, 0.0449142, 0.0352649, 0.0290281, 0.0432247, 0.0342147, 0.0375711, 0.0314088, 0.0402001, 0.0416576, 0.0363815, 0.0402001, 0.030573, 0.0532378, 0.0375711, 0.0363815, 0.030573, 0.0388412, 0.0402001, 0.0290281, 0.0276319, 0.0388412, 0.0432247, 0.0508805, 0.0363815, 0.0322915, 0.0449142, 0.0432247, 0.0532378, 0.0388412, 0.0375711, 0.061831, 0.0388412, 0.0586742, 0.0402001, 0.0532378, 0.0402001, 0.0432247, 0.0467412, 0.0586742, 0.0388412, 0.0467412, 0.0375711, 0.0449142, 0.0653467, 0.0487232, 0.0653467, 0.0352649, 0.0467412, 0.0532378, 0.055824, 0.0467412, 0.055824, 0.0352649, 0.0276319, 0.0432247, 0.0388412, 0.0375711, 0.0449142, 0.0332253, 0.0432247, 0.0532378, 0.0449142, 0.0363815, 0.061831, 0.0508805, 0.108532, 0.0449142, 0.055824, 0.0449142, 0.061831, 0.0532378, 0.055824, 0.0586742, 0.0487232, 0.061831, 0.061831, 0.0487232, 0.0363815, 0.0449142, 0.0416576, 0.0532378, 0.0692861, 0.0532378, 0.061831, 0.061831, 0.0467412, 0.0402001, 0.0388412, 0.0508805, 0.0532378, 0.0532378, 0.061831, 0.0653467, 0.0532378, 0.0508805, 0.0508805, 0.0508805, 0.0467412, 0.0912977, 0.0692861, 0.055824, 0.055824, 0.055824, 0.0432247, 0.0586742, 0.055824, 0.0653467, 0.0737307, 0.0449142, 0.0487232, 0.0508805, 0.0586742, 0.0653467, 0.0508805, 0.0508805, 0.0363815, 0.0388412, 0.0508805, 0.0587547,]\n",
    "    yplus = [0.030573, 0.000800584, 0.000159452, 9.46682e-05, 0.000108462, 0.000269658, 0.0010812, 0.00351773, 0.00693852, 0.00956617, 0.012724, 0.014479, 0.0152386, 0.016395, 0.0180698, 0.0196158, 0.0188529, 0.0181459, 0.0236798, 0.0221263, 0.0219734, 0.0171106, 0.0116209, 0.0203675, 0.0113455, 0.0179647, 0.00967133, 0.00896105, 0, 0, 0, 0, 0, 0, 0, 0, 0, 0, 0, 0, 0, 0, 0, 0, 0, 0, 0, 0, 0, 0, 0, 0, 0, 0, 0, 0, 0, 0, 0, 0, 0, 0, 0, 0, 0, 0, 0, 0, 0, 0, 0, 0, 0, 0, 0, 0, 0, 0, 0, 0, 0, 0, 0, 0, 0, 0, 0, 0, 0, 0, 0, 0, 0, 0, 0, 0, 0, 0, 0, 0, 0, 0, 0, 0, 0, 0, 0, 0, 0, 0, 0, 0, 0, 0, 0, 0, 0, 0, 0, 0, 0, 0, 0, 0, 0, 0, 0, 0, 0, 0, 0, 0, 0, 0, 0, 0, 0, 0, 0, 0, 0, 0, 0, 0, 0, 0, 0, 0, 0, 0, 0, 0, 0, 0, 0, 0, 0, 0, 0, 0, 0, 0, 0, 0, 0, 0, 0, 0, 0, 0, 0, 0, 0, 0, 0, 0, 0, 0, 0, 0, 0, 0, 0, 0, 0, 0, 0, 0, 0, 0, 0, 0, 0, 0, 0, 0, 0, 0, 0, 0.0308794,]\n",
    "    \n",
    "    plt.errorbar(x, y, fmt='.', yerr=(yminus, yplus), label='trig. eff.')\n",
    "    \n",
    "    return np.interp(pe, x, y)\n",
    "\n",
    "size = 3.1693\n",
    "plt.figure(figsize=(size, 0.75*size))\n",
    "\n",
    "plt.plot(measured_energy_bins,\n",
    "         acceptance_function(measured_energy_bins),\n",
    "         '--.', color='red')\n",
    "\n",
    "x = [91.5, 114.5, 137.5, 160.5, 183.5, 206.5, 229.5, 252.5, 275.5, 298.5, 321.5, 344.5, 367.5, 390.5, 413.5, 436.5, 459.5, 482.5, 505.5, 528.5, 551.5, 574.5, 597.5, 620.5, 643.5, 666.5, 689.5, 712.5, 735.5, 758.5, 781.5, 804.5, 827.5, 850.5, 873.5, 896.5, 919.5, 942.5, 965.5, 988.5]\n",
    "y = [0.5208752751350403, 0.5534624457359314, 0.5655086636543274, 0.5939598083496094, 0.6016217470169067, 0.5910416841506958, 0.6053590774536133, 0.6142134070396423, 0.6171691417694092, 0.6179883480072021, 0.6152552366256714, 0.6160879731178284, 0.6188319325447083, 0.6300469636917114, 0.6332888603210449, 0.6288020610809326, 0.6494696140289307, 0.6440762281417847, 0.6450938582420349, 0.6237490773200989, 0.6333166360855103, 0.6395620703697205, 0.6379808187484741, 0.6564419269561768, 0.6734371185302734, 0.6342695355415344, 0.6381530165672302, 0.6378186941146851, 0.6269301176071167, 0.6374047994613647, 0.6275669932365417, 0.6614735126495361, 0.6372666954994202, 0.6627113819122314, 0.638416588306427, 0.6492322087287903, 0.6646038293838501, 0.666368305683136, 0.647190511226654, 0.6572174429893494]\n",
    "yminus, yplus = zip(*[(0.015537756435489, 0.015537756435489), (0.01623771409714524, 0.01623771409714524), (0.015327782290291537, 0.015327782290291537), (0.01661522276911347, 0.01661522276911347), (0.01601966879482559, 0.01601966879482559), (0.01676072935247934, 0.01676072935247934), (0.016276188186524522, 0.016276188186524522), (0.0172963907389622, 0.0172963907389622), (0.016854139698929266, 0.016854139698929266), (0.0161488052212311, 0.0161488052212311), (0.016470282001641183, 0.016470282001641183), (0.016950197632603727, 0.016950197632603727), (0.017181902618759497, 0.017181902618759497), (0.01735477132372383, 0.01735477132372383), (0.01708720307521821, 0.01708720307521821), (0.017974941623529767, 0.017974941623529767), (0.017063701433683593, 0.017063701433683593), (0.01719582806776309, 0.01719582806776309), (0.018075214725834555, 0.018075214725834555), (0.017793140296277998, 0.017793140296277998), (0.01866232989650814, 0.01866232989650814), (0.017468732544839796, 0.017468732544839796), (0.01781258335252456, 0.01781258335252456), (0.018304402772145557, 0.018304402772145557), (0.018000586731251194, 0.018000586731251194), (0.019637447172175432, 0.019637447172175432), (0.018739576570994603, 0.018739576570994603), (0.020137388758218775, 0.020137388758218775), (0.018674610280439107, 0.018674610280439107), (0.018539497350903916, 0.018539497350903916), (0.019465923973405762, 0.019465923973405762), (0.019235594071943325, 0.019235594071943325), (0.020466501086280488, 0.020466501086280488), (0.019930269136247614, 0.019930269136247614), (0.020506504238123682, 0.020506504238123682), (0.020319428190820853, 0.020319428190820853), (0.019711834039852164, 0.019711834039852164), (0.02089743032756345, 0.02089743032756345), (0.02004978799413057, 0.02004978799413057), (0.021326355159301157, 0.021326355159301157)])\n",
    "plt.errorbar(x, y, fmt='^', yerr=(yminus, yplus),\n",
    "             label='acceptance',\n",
    "            color='red')\n",
    "\n",
    "plt.plot(measured_energy_bins,\n",
    "         trigger_efficiency(measured_energy_bins),\n",
    "         ls='--',color='blue')\n",
    "\n",
    "\n",
    "plt.xlim(0,300)\n",
    "plt.ylim(0,1)\n",
    "plt.xlabel('pe')\n",
    "plt.ylabel('efficiency')\n",
    "plt.legend(loc=4)\n",
    "\n",
    "for image_type in ['eps', 'png', 'pdf']:\n",
    "    plt.savefig('plots/response_acceptance.%s' % image_type, bbox_inches='tight')\n",
    "    "
   ]
  },
  {
   "cell_type": "markdown",
   "metadata": {},
   "source": [
    "## Energy-smearing matrix"
   ]
  },
  {
   "cell_type": "markdown",
   "metadata": {},
   "source": [
    "### Inputs"
   ]
  },
  {
   "cell_type": "markdown",
   "metadata": {},
   "source": [
    "### $Q_y$"
   ]
  },
  {
   "cell_type": "markdown",
   "metadata": {},
   "source": [
    "TODO: Need to update this with the $Q_y$ from Richard."
   ]
  },
  {
   "cell_type": "code",
   "execution_count": 27,
   "metadata": {
    "collapsed": false
   },
   "outputs": [
    {
     "name": "stdout",
     "output_type": "stream",
     "text": [
      "[ 5.72148616]\n"
     ]
    }
   ],
   "source": [
    "\n",
    "def Qy(enr, cut=qy_cutoff):\n",
    "    \"\"\"Determine electron yield from Bezrukov\n",
    "    \n",
    "    enr is in keV, answer is in number of electrons at interaction point.\n",
    "    \n",
    "    Add ref\n",
    "    \"\"\"\n",
    "    ep = enr * (1.05 * np.power(10.,-3.))\n",
    "    k = 1.65e-1\n",
    "                                                                                                                                                                                     \n",
    "    se = k * np.sqrt(ep);\n",
    "    sn = (np.log(1 + 1.1383 * 1.068 * ep))/(2 *(1.068 * ep + 0.01321 * np.power((1.068 * ep),0.21226) + 0.19593*np.power((1.068*ep),0.5)))\n",
    "    ratio = 1.09;\n",
    "    g = 0.032;\n",
    "    b = 1.38e5                                                                                                                                             \n",
    "\n",
    "    squiggle = se / sn;\n",
    "\n",
    "    Ni = (b * ep * squiggle)/(1 + ratio);\n",
    "\n",
    "    Nq = (4./g) * np.log(1 + (g * Ni)/4.);\n",
    "\n",
    "    answer = Nq/enr\n",
    "\n",
    "    # Energy cut so can floor Q_y below it\n",
    "    answer[enr < cut] = 0\n",
    "    \n",
    "    return answer\n",
    "\n",
    "    \n",
    "print(Qy(np.array([5])))"
   ]
  },
  {
   "cell_type": "code",
   "execution_count": 7,
   "metadata": {
    "collapsed": false
   },
   "outputs": [
    {
     "data": {
      "image/png": "[encoded data removed]",
      "text/plain": [
       "<matplotlib.figure.Figure at 0x107f01860>"
      ]
     },
     "metadata": {},
     "output_type": "display_data"
    }
   ],
   "source": [
    "import matplotlib.pyplot as plt\n",
    "from mpl_toolkits.axes_grid1.inset_locator import zoomed_inset_axes\n",
    "from mpl_toolkits.axes_grid1.inset_locator import mark_inset\n",
    "#plt.rc('text', usetex=True)\n",
    "#plt.rc('font', family='serif')\n",
    "\n",
    "size = 3.1693\n",
    "fig, ax = plt.subplots(figsize=(size, 0.75*size))\n",
    "\n",
    "x = np.linspace(1e-6, 20, 1000)\n",
    "y = Qy(x)\n",
    "ax.plot(x, y)\n",
    "\n",
    "#ax.plot(x, Qy_NEST(x), '--')\n",
    "plt.ylim(0,7)\n",
    "plt.xlim(0,5)\n",
    "\n",
    "plt.xlabel('E [keV]}')\n",
    "plt.ylabel('Q_y [e/keV]')\n",
    "\n",
    "#a = plt.axes([.2, .2, .2, .2], axisbg='y')\n",
    "#a.plot(x, y)\n",
    "#plt.xlim(0,4)\n",
    "#plt.ylim(5,7)\n",
    "#plt.title('Zoom')\n",
    "#plt.setp(a, xticks=[1,2,3], yticks=[1,3,5,7])\n",
    "\n",
    "\n",
    "#plt.savefig('plots/response_limit_qy_nonzero.png', bbox_inches='tight')\n",
    "for image_type in ['eps', 'png', 'pdf']:\n",
    "    plt.savefig('plots/response_limit_qy.%s' % image_type, bbox_inches='tight')\n",
    "\n",
    "plt.show()\n",
    "\n"
   ]
  },
  {
   "cell_type": "markdown",
   "metadata": {},
   "source": [
    "### Create an S2"
   ]
  },
  {
   "cell_type": "code",
   "execution_count": 10,
   "metadata": {
    "collapsed": false
   },
   "outputs": [],
   "source": [
    "def S2(edep):\n",
    "    \"\"\"Compute the measured S2 for a recoil energy\n",
    "    \n",
    "    var: edep [kev]\n",
    "    \n",
    "    Checked against Marc Weber's:\n",
    "    double Xenon100NR::GetUncorrectedS2(double Er, double Nq_in, double zz)\n",
    "    \"\"\"    \n",
    "    # Constants\n",
    "    electron_lifetime = 500 # us\n",
    "    electron_drift_velocity = 1.74 # mm/us \n",
    "    s2_amplification = 19.67\n",
    "    s2_amplification_sigma = 6.98\n",
    "    y = 300 # detector height [mm]\n",
    "    \n",
    "    # Compute effect of the electron lifetime\n",
    "    #    integral_0^y e^(-x/k)/y dx = (k-k e^(-y/k))/y\n",
    "    k = (electron_lifetime * electron_drift_velocity)  # temp variable\n",
    "    average_electron_lifetime_effect = k * (1 - np.exp(-1 * y/k)) / y\n",
    "    \n",
    "    Ne = np.random.poisson(edep * Qy(edep))  # Number of electrons in liquid\n",
    "    Ng = Ne *  average_electron_lifetime_effect # Number of electrons in gas\n",
    "    \n",
    "    answer = np.zeros_like(edep)\n",
    "    \n",
    "    answer[Ng > 0] = np.random.normal(loc=s2_amplification * Ng[Ng > 0],\n",
    "                                       scale=s2_amplification_sigma * np.sqrt(Ng[Ng > 0]))\n",
    "    answer[answer < 0] = 0\n",
    "    \n",
    "    return answer"
   ]
  },
  {
   "cell_type": "code",
   "execution_count": 12,
   "metadata": {
    "collapsed": false
   },
   "outputs": [
    {
     "data": {
      "image/png": "[encoded data removed]",
      "text/plain": [
       "<matplotlib.figure.Figure at 0x1081b0630>"
      ]
     },
     "metadata": {},
     "output_type": "display_data"
    }
   ],
   "source": [
    "def plot_S2(energy):\n",
    "    N = 10000\n",
    "    samples = S2(np.ones(N)*energy)\n",
    "    plt.hist(samples)\n",
    "    plt.xlabel('Smeared energy [PE]')\n",
    "    plt.ylabel('N')\n",
    "    plt.title('%0.1f keV, %d samples' % (energy, N))\n",
    "    plt.savefig('plots/response_example_smeared_pe.png')\n",
    "    plt.show()\n",
    "\n",
    "plot_S2(2)"
   ]
  },
  {
   "cell_type": "code",
   "execution_count": 14,
   "metadata": {
    "collapsed": false
   },
   "outputs": [],
   "source": [
    "Z, binsx, binsy = np.histogram2d([], [],\n",
    "                    bins=(true_energy_bins,\n",
    "                        measured_energy_bins))\n",
    "N = 0\n",
    "\n",
    "def c(x):\n",
    "    \"\"\" get center\"\"\"\n",
    "    return 0.5*(x[1:]+x[:-1])"
   ]
  },
  {
   "cell_type": "code",
   "execution_count": 15,
   "metadata": {
    "collapsed": false
   },
   "outputs": [],
   "source": [
    "def add_points(size = 10):\n",
    "    \"\"\"Simulation of many events to build smearing matrix\n",
    "    \"\"\"\n",
    "    trial_energy = true_energy_bins[0] + np.random.random(size) * (true_energy_bins[-1] - true_energy_bins[0])\n",
    "    \n",
    "    true_spectra, recon_spectra = smeared_spectra(trial_energy)\n",
    "\n",
    "    z, binsx, binsy = np.histogram2d(true_spectra, recon_spectra,\n",
    "                                     bins=(true_energy_bins,\n",
    "                                           measured_energy_bins))\n",
    "    \n",
    "    global N  # Number of simulated events\n",
    "    global Z  # Resulting 2D bin\n",
    "    N += size\n",
    "    Z += z\n",
    "    return z \n"
   ]
  },
  {
   "cell_type": "code",
   "execution_count": 16,
   "metadata": {
    "collapsed": false
   },
   "outputs": [],
   "source": [
    "def smeared_spectra(true_energy):\n",
    "    \"\"\"Smear energy\n",
    "    \n",
    "    Smears into measured energy then applies efficiencies\n",
    "     true_energy - keV\n",
    "    \"\"\"\n",
    "    size = true_energy.size\n",
    "    smeared_energy = np.array(S2(true_energy))\n",
    "\n",
    "    energies = np.vstack((true_energy, smeared_energy.copy()))\n",
    "    \n",
    "    # Remove energies that are zero\n",
    "    energies = energies.compress((smeared_energy != 0), axis=1)\n",
    "       \n",
    "    # Trigger efficiency\n",
    "    mask = np.random.random(energies[1].size) < trigger_efficiency(energies[1])\n",
    "    energies = energies.compress(mask, axis=1)\n",
    "   \n",
    "    # Cut acceptance\n",
    "    mask =  np.random.random(energies.shape[1]) < acceptance_function(energies[1]) \n",
    "    energies = energies.compress(mask,\n",
    "                                 axis=1)\n",
    "\n",
    "    return energies\n",
    "\n"
   ]
  },
  {
   "cell_type": "code",
   "execution_count": 17,
   "metadata": {
    "collapsed": false
   },
   "outputs": [
    {
     "data": {
      "image/png": "[encoded data removed]",
      "text/plain": [
       "<matplotlib.figure.Figure at 0x108099f98>"
      ]
     },
     "metadata": {},
     "output_type": "display_data"
    }
   ],
   "source": [
    "for i in range(1000):\n",
    "    add_points(100000)\n",
    "    response_matrix = (Z / (N / true_energy_bins.size))\n"
   ]
  },
  {
   "cell_type": "code",
   "execution_count": 18,
   "metadata": {
    "collapsed": false
   },
   "outputs": [],
   "source": [
    "def plot(x, y, response_matrix):\n",
    "    plt.figure(figsize=(7,7))\n",
    "    reds = cm.Reds\n",
    "    reds.set_bad('white')\n",
    "    reds.set_under('white')\n",
    "    \n",
    "    nullfmt   = NullFormatter()         # no labels  \n",
    "    \n",
    "    # definitions for the axes                                                                                             \n",
    "    left, width = 0.1, 0.65\n",
    "    bottom, height = 0.1, 0.65\n",
    "    bottom_h = left_h = left+width+0.02\n",
    "\n",
    "    rect_scatter = [left, bottom, width, height]\n",
    "    rect_histx = [left, bottom_h, width, 0.2]\n",
    "    rect_histy = [left_h, bottom, 0.2, height]\n",
    "\n",
    "    # start with a rectangular Figure                                                                                      \n",
    "    plt.figure(1)\n",
    "\n",
    "    axScatter = plt.axes(rect_scatter)\n",
    "    axHistx = plt.axes(rect_histx)\n",
    "    #axHisty = plt.axes(rect_histy)\n",
    "\n",
    "    # no labels                                                                                                            \n",
    "    axHistx.xaxis.set_major_formatter(nullfmt)\n",
    "    #axHisty.yaxis.set_major_formatter(nullfmt)\n",
    "\n",
    "    axScatter.imshow(response_matrix, interpolation='nearest', origin='low',\n",
    "                extent=[true_energy_bins[0], true_energy_bins[-1],\n",
    "                        measured_energy_bins[0], measured_energy_bins[-1]],\n",
    "                 aspect='auto',\n",
    "                 cmap=reds)\n",
    "                                                                                   \n",
    "    axScatter.set_xlabel('True energy [keV]')\n",
    "    axScatter.set_ylabel('Measured signal [pe]')\n",
    "\n",
    "    # now determine nice limits by hand:                                                                                   \n",
    "    binwidth = 0.25\n",
    "    xymax = np.max( [np.max(np.fabs(x)), np.max(np.fabs(y))] )\n",
    "    lim = ( int(xymax/binwidth) + 1) * binwidth\n",
    "\n",
    "    axScatter.set_xlim((x[0], x[-1]/2))\n",
    "    axScatter.set_ylim((y[0], y[-1]/2))\n",
    "\n",
    "    axHistx.plot(c(x), response_matrix.sum(0))\n",
    "    \n",
    "    #axHisty.plot(response_matrix.sum(1), c(y))\n",
    "    \n",
    "    axHistx.set_xlim(axScatter.get_xlim())\n",
    "    axHistx.set_ylim((0, 1))\n",
    "    \n",
    "    #axHisty.set_xlim((0,1))\n",
    "    #axHisty.set_ylim(axScatter.get_ylim())\n",
    "    \n",
    "    \n",
    "    #axHisty.set_title(\"Efficiency\")\n",
    "    axHistx.set_ylabel(\"Efficiency\")\n",
    "    for extension in ['png', 'eps', 'pdf']:\n",
    "        plt.savefig('plots/%s_%0.1f.%s' % ('energy_smearing_matrix',\n",
    "                                           qy_cutoff,\n",
    "                                           extension), bbox_inches='tight')\n",
    "\n",
    "    plt.show()        \n",
    "    return (c(x), response_matrix.sum(0))\n"
   ]
  },
  {
   "cell_type": "code",
   "execution_count": 19,
   "metadata": {
    "collapsed": false
   },
   "outputs": [
    {
     "data": {
      "image/png": "[encoded data removed]",
      "text/plain": [
       "<matplotlib.figure.Figure at 0x113b1ab38>"
      ]
     },
     "metadata": {},
     "output_type": "display_data"
    }
   ],
   "source": [
    "pe90 = plot(true_energy_bins,\n",
    "            measured_energy_bins,\n",
    "             np.transpose(response_matrix))"
   ]
  },
  {
   "cell_type": "code",
   "execution_count": 20,
   "metadata": {
    "collapsed": false
   },
   "outputs": [
    {
     "data": {
      "image/png": "[encoded data removed]",
      "text/plain": [
       "<matplotlib.figure.Figure at 0x10810e9b0>"
      ]
     },
     "metadata": {},
     "output_type": "display_data"
    }
   ],
   "source": [
    "plt.figure()\n",
    "plt.plot(pe90[0], pe90[1])\n",
    "#plt.plot(pe60[0], pe60[1])\n",
    "plt.show()"
   ]
  },
  {
   "cell_type": "code",
   "execution_count": null,
   "metadata": {
    "collapsed": false
   },
   "outputs": [],
   "source": [
    "def save_response_matrix(x, y, z):\n",
    "    f = open( \"response_matrix_%0.1f.p\" % qy_cutoff,\n",
    "             \"wb\" )\n",
    "    pickle.dump( x, f)\n",
    "    pickle.dump( y, f)\n",
    "    pickle.dump( z, f)\n",
    "    f.close()\n",
    "    \n",
    "save_response_matrix(true_energy_bins,\n",
    "                     measured_energy_bins,\n",
    "                     response_matrix)"
   ]
  }
 ],
 "metadata": {
  "kernelspec": {
   "display_name": "Python 3",
   "language": "python",
   "name": "python3"
  },
  "language_info": {
   "codemirror_mode": {
    "name": "ipython",
    "version": 3
   },
   "file_extension": ".py",
   "mimetype": "text/x-python",
   "name": "python",
   "nbconvert_exporter": "python",
   "pygments_lexer": "ipython3",
   "version": "3.4.3"
  }
 },
 "nbformat": 4,
 "nbformat_minor": 0
}
